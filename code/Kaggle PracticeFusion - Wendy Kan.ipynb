{
 "metadata": {
  "name": "",
  "signature": "sha256:ec9b262392b827d7736905d1a37b6c96201d2f1230181b4e9ca6e14cb0e85d34"
 },
 "nbformat": 3,
 "nbformat_minor": 0,
 "worksheets": [
  {
   "cells": [
    {
     "cell_type": "heading",
     "level": 1,
     "metadata": {},
     "source": [
      "Kaggle/PracticeFusion Competition Documentation"
     ]
    },
    {
     "cell_type": "heading",
     "level": 4,
     "metadata": {},
     "source": [
      "Wendy Kan\n",
      "10/5/2014\n"
     ]
    },
    {
     "cell_type": "markdown",
     "metadata": {},
     "source": [
      "---\n",
      "### Introduction: My hunt for the prediction variable\n",
      "I started the task by brainstorming ideas of competitions. From my past experience as a participant and as someone that works in the \n",
      "industry, I think a good competition would have these qualities:\n",
      "\n",
      "For participants:\n",
      "\n",
      "- Problem is exciting\n",
      "- Data is clean and well organized\n",
      "- Prediction seems like something that\u2019s not trivial\n",
      "- Easy to make a first submission\n",
      "\n",
      "For companies:\n",
      "- The prediction has significant business value\n",
      "- Identify talented candidates and recruit them\n",
      "- Advertize our data for possible collaborations (API provider/consumers)\n",
      "\n",
      "#### Disease and meds - predict a diagnosis.\n",
      "\n",
      "I started by looking at the data and the past competition. The past challenge was to predict whether a patient has diabetes or not, based on all the features possible (but removing the highly indicative features such as Glucose lab results). This is one big area I can consider - predicting diagnosis. \n",
      "\n",
      "So I decided to start looking at the most prominent diagnosis in this dataset. Since I work in a drug company (and I know drug related data is very valuable), I'm going to look at medication dataset as well. \n",
      "\n",
      "I used pandas for my data processing. "
     ]
    },
    {
     "cell_type": "code",
     "collapsed": false,
     "input": [
      "import pandas as pd\n",
      "meds = pd.read_csv(\"/Users/kanc/Documents/classes/Kaggle/practice_fusion/data/trainingSet/training_SyncMedication.csv\")\n",
      "diag = pd.read_csv(\"/Users/kanc/Documents/classes/Kaggle/practice_fusion/data/trainingSet/training_SyncDiagnosis.csv\")\n",
      "diag_meds = meds.merge(diag, on='DiagnosisGuid')\n",
      "\n",
      "# look at the most frequent diagnosis, list is long, so I'm showing only the first 10\n",
      "diag_meds['ICD9Code'].value_counts().head(10)"
     ],
     "language": "python",
     "metadata": {},
     "outputs": [
      {
       "metadata": {},
       "output_type": "pyout",
       "prompt_number": 22,
       "text": [
        "401.1     2242\n",
        "401.9     2117\n",
        "272.2     1753\n",
        "250.00    1246\n",
        "466.0     1219\n",
        "401        974\n",
        "530.81     837\n",
        "724.2      820\n",
        "477.9      767\n",
        "244.9      737\n",
        "dtype: int64"
       ]
      }
     ],
     "prompt_number": 22
    },
    {
     "cell_type": "markdown",
     "metadata": {},
     "source": [
      "As you can see, I have a list of ICD9Code now. What's this 401.1 and 401.9? I did a quick look up at http://en.wikipedia.org/wiki/List_of_ICD-9_codes and found that these are _Hypertension_ (high blood pressure). The one following that, 272.2, is _Hyperlipidemia, mixed_ (basically high cholesterol). I wanted to group these families of diseases together to get a better sense of them, so I used\n"
     ]
    },
    {
     "cell_type": "code",
     "collapsed": false,
     "input": [
      "diag_meds['ICD9CodeFamily'] = diag_meds['ICD9Code'].str.split('.').str.get(0)\n",
      "diag_meds.ICD9CodeFamily.value_counts().head(10)"
     ],
     "language": "python",
     "metadata": {},
     "outputs": [
      {
       "metadata": {},
       "output_type": "pyout",
       "prompt_number": 23,
       "text": [
        "401    5468\n",
        "272    3136\n",
        "250    2659\n",
        "477    1681\n",
        "300    1637\n",
        "724    1459\n",
        "461    1355\n",
        "466    1263\n",
        "493    1114\n",
        "296    1074\n",
        "dtype: int64"
       ]
      }
     ],
     "prompt_number": 23
    },
    {
     "cell_type": "markdown",
     "metadata": {},
     "source": [
      "I'm getting pretty similar results at least for the top 10 disease families. And the number of samples in this set is large enough for a competition, so I have a backup plan for _predicting high cholesterol_ or _predicting high blood pressure_. However, I'm not completely satisfied with this competition idea. For a few reasons:\n",
      "\n",
      "- Predicting a diagnosis is too similar to predicting diabetes. I'll only be asking people to optimize their feature engineering techniques. Not very challenging. \n",
      "- From a medical point of view, these tests (blood pressure tests, cholesterol level tests) are pretty standard, and not expensive. The cholesterol test is slightly more invasive, but if you are having other tests done, you might as well do that cholesterol test. It doesn't add a lot of value to predict this. \n",
      "\n",
      "#### Predicting which drug to use for a specific disease\n",
      "\n",
      "There are two main tasks a doctor performs: 1. Diagnose 2. Treat. My previous idea mimics the former. I think if a computer can figure out which drug to give to patients given a certain diagnosis, it would mimic (2). And that seems like a cool idea. \n",
      "\n",
      "So I decided to take a closer look at the hypertension family and figure out how many different types of drugs are given for this condition. If we're lucky, we can build a classifier to predict which drug to use. "
     ]
    },
    {
     "cell_type": "code",
     "collapsed": false,
     "input": [
      "# get the meds that are associated with ICD9 code 401\n",
      "hbp_table = diag_meds[diag_meds['ICD9CodeFamily']=='401']\n",
      "# group the meds by treatment. See the number of each medication associated with each diagnosis. \n",
      "hbp_table.groupby('DiagnosisGuid').size().head()"
     ],
     "language": "python",
     "metadata": {},
     "outputs": [
      {
       "metadata": {},
       "output_type": "pyout",
       "prompt_number": 24,
       "text": [
        "DiagnosisGuid\n",
        "002550F2-3721-4F77-B2D5-0815CBD05C79    1\n",
        "002D1AB1-E643-4BFD-A3B0-3C6BDEFC135A    2\n",
        "0038F098-DCE8-4FEF-91A4-6B6A558B5F23    1\n",
        "0056BC91-AAFB-43A3-BDDC-8B66C1D49A25    1\n",
        "00743005-AEDB-4B37-A184-01E0B7E481E1    2\n",
        "dtype: int64"
       ]
      }
     ],
     "prompt_number": 24
    },
    {
     "cell_type": "markdown",
     "metadata": {},
     "source": [
      "Then I realized I have a problem. A lot these diagnosis are linked to multiple drugs. It makes perfect sense because a lot of times all these drugs are given because they want to use this other drug for some other side effects caused by that other drug. There is a lot of inter-dependency here and I don't want to go there. \n",
      "\n",
      "I figured that the best way is probably to look at only the diagnoses that are only associated with one drug. "
     ]
    },
    {
     "cell_type": "code",
     "collapsed": false,
     "input": [
      "# get how many cases there are where each diagnosis is only associated with one drug\n",
      "sum(hbp_table.groupby('DiagnosisGuid').size()==1)"
     ],
     "language": "python",
     "metadata": {},
     "outputs": [
      {
       "metadata": {},
       "output_type": "pyout",
       "prompt_number": 25,
       "text": [
        "1354"
       ]
      }
     ],
     "prompt_number": 25
    },
    {
     "cell_type": "code",
     "collapsed": false,
     "input": [
      "# get the most commonly seen drugs for this diagnosis\n",
      "hbp_table.NdcCode.value_counts().head(5)"
     ],
     "language": "python",
     "metadata": {},
     "outputs": [
      {
       "metadata": {},
       "output_type": "pyout",
       "prompt_number": 26,
       "text": [
        "115367001    106\n",
        "69154041      79\n",
        "93111401      78\n",
        "69153041      71\n",
        "143126730     68\n",
        "dtype: int64"
       ]
      }
     ],
     "prompt_number": 26
    },
    {
     "cell_type": "markdown",
     "metadata": {},
     "source": [
      "__Ouch!__ What a bummer. I want my training and test sets to be a little bigger than that. First, I realized there are only 1354 diagnosis associated with only one drug. Then I realized the variety of these drugs is too large, there are very few cases of \"most-commonly-prescribed drug\" to use from.\n",
      "\n",
      "It seems like even though it's a great idea, the data I have here is not large enough to have a competitioin for predicting which medication to use for hypertension. "
     ]
    },
    {
     "cell_type": "markdown",
     "metadata": {},
     "source": [
      "#### Predicting lab results, smoking status, weight, etc\n",
      "\n",
      "I started looking also at predicting smoking status (yes/no), but the amount of data in that table is really limited. \n",
      "\n",
      "I also looked at lab results, hoping I would be able to predict some lab measurements, for example, HDL level. However, I found that in this given data set there are less than 10 samples of the HDL measurements. So lab results is not a great one to run predictions on either. \n",
      "\n",
      "I looked very briefly at predicting the body weight of each patient. Although this is a fun prediction, it doesn't make much sense because if you have a scale you know your body weight. It's a fun challenge but a meaningless one. \n",
      "\n",
      "#### Predicting stats: predicting the number of prescriptions, meds, diagnosis. \n",
      "\n",
      "Another idea was to calculate some stats and predict those. For example, predict the total number of prescriptions for each patient, predict total number of drugs for each patient, etc. I thought the first idea was pretty cool. \n",
      "\n",
      "Other than the _coolness_, it also provides a good indicator for medical providers of the person's overall health and risk, for the patient, it gives a good measurement of \"they predicted I would have 5 prescriptions but I only have 3\". For the competition, it is an interesting measurement that has enough data (at least every patient has some demographic measurement features to start with), and can be extended with more work on feature engineering and multiple levels of modeling (maybe build a map of how many prescriptions are related to each diagnosis). \n",
      "\n",
      "So the first step is to check on the data. From the previous experience, if I don't have enough sample points, it's not going to work."
     ]
    },
    {
     "cell_type": "code",
     "collapsed": false,
     "input": [
      "pat = pd.read_csv(\"/Users/kanc/Documents/classes/Kaggle/practice_fusion/data/trainingSet/training_SyncPatient.csv\")\n",
      "pres = pd.read_csv(\"/Users/kanc/Documents/classes/Kaggle/practice_fusion/data/trainingSet/training_SyncPrescription.csv\")\n",
      "# calculate the number of prescriptions each patient\n",
      "results = pat.merge(pres,on='PatientGuid').groupby('PatientGuid').size()\n",
      "pat_results = pat.join(results.to_frame(), on='PatientGuid')\n",
      "pat_results.columns = [u'PatientGuid', u'Gender', u'YearOfBirth', u'State', u'PracticeGuid', u'prescription_count']\n",
      "pat_results.head()"
     ],
     "language": "python",
     "metadata": {},
     "outputs": [
      {
       "html": [
        "<div style=\"max-height:1000px;max-width:1500px;overflow:auto;\">\n",
        "<table border=\"1\" class=\"dataframe\">\n",
        "  <thead>\n",
        "    <tr style=\"text-align: right;\">\n",
        "      <th></th>\n",
        "      <th>PatientGuid</th>\n",
        "      <th>Gender</th>\n",
        "      <th>YearOfBirth</th>\n",
        "      <th>State</th>\n",
        "      <th>PracticeGuid</th>\n",
        "      <th>prescription_count</th>\n",
        "    </tr>\n",
        "  </thead>\n",
        "  <tbody>\n",
        "    <tr>\n",
        "      <th>0</th>\n",
        "      <td> FB6EFC3D-1A20-4497-9CBD-00027CC5D220</td>\n",
        "      <td> M</td>\n",
        "      <td> 1929</td>\n",
        "      <td> SD</td>\n",
        "      <td> 7BF4DAD8-5F67-4985-B911-20C9E89A3737</td>\n",
        "      <td>  5</td>\n",
        "    </tr>\n",
        "    <tr>\n",
        "      <th>1</th>\n",
        "      <td> C6746626-6783-4650-A58F-00065649139A</td>\n",
        "      <td> F</td>\n",
        "      <td> 1985</td>\n",
        "      <td> TX</td>\n",
        "      <td> E7101967-2FF1-4B0F-8129-B0B429D1D15C</td>\n",
        "      <td>  2</td>\n",
        "    </tr>\n",
        "    <tr>\n",
        "      <th>2</th>\n",
        "      <td> E05C6E8F-779F-4594-A388-000C635AE4D3</td>\n",
        "      <td> F</td>\n",
        "      <td> 1984</td>\n",
        "      <td> NJ</td>\n",
        "      <td> FC01A799-1CAF-464F-A86F-8A666AB86F32</td>\n",
        "      <td>NaN</td>\n",
        "    </tr>\n",
        "    <tr>\n",
        "      <th>3</th>\n",
        "      <td> EAEBD216-F847-4355-87B2-000D942E08F0</td>\n",
        "      <td> M</td>\n",
        "      <td> 1959</td>\n",
        "      <td> OH</td>\n",
        "      <td> EEBC95EF-79BE-4542-892E-98D3166BAB20</td>\n",
        "      <td> 38</td>\n",
        "    </tr>\n",
        "    <tr>\n",
        "      <th>4</th>\n",
        "      <td> C7F10A80-4934-42D2-8540-000FBEBA75C8</td>\n",
        "      <td> F</td>\n",
        "      <td> 1990</td>\n",
        "      <td> FL</td>\n",
        "      <td> 677BA32E-B4C4-48F2-86E4-08C42B135401</td>\n",
        "      <td>  1</td>\n",
        "    </tr>\n",
        "  </tbody>\n",
        "</table>\n",
        "</div>"
       ],
       "metadata": {},
       "output_type": "pyout",
       "prompt_number": 27,
       "text": [
        "                            PatientGuid Gender  YearOfBirth State  \\\n",
        "0  FB6EFC3D-1A20-4497-9CBD-00027CC5D220      M         1929    SD   \n",
        "1  C6746626-6783-4650-A58F-00065649139A      F         1985    TX   \n",
        "2  E05C6E8F-779F-4594-A388-000C635AE4D3      F         1984    NJ   \n",
        "3  EAEBD216-F847-4355-87B2-000D942E08F0      M         1959    OH   \n",
        "4  C7F10A80-4934-42D2-8540-000FBEBA75C8      F         1990    FL   \n",
        "\n",
        "                           PracticeGuid  prescription_count  \n",
        "0  7BF4DAD8-5F67-4985-B911-20C9E89A3737                   5  \n",
        "1  E7101967-2FF1-4B0F-8129-B0B429D1D15C                   2  \n",
        "2  FC01A799-1CAF-464F-A86F-8A666AB86F32                 NaN  \n",
        "3  EEBC95EF-79BE-4542-892E-98D3166BAB20                  38  \n",
        "4  677BA32E-B4C4-48F2-86E4-08C42B135401                   1  "
       ]
      }
     ],
     "prompt_number": 27
    },
    {
     "cell_type": "markdown",
     "metadata": {},
     "source": [
      "This looks pretty good so far. However, I have a decision to make. What about these NaN's? What do they mean? Should I exclude them? \n",
      "\n",
      "A further look into the data, it becomes obvious that the NaNs are because there's no record associated with this patient in the prescriptions data. Since the minimum number of prescription is 1 and not 0. (Makes sense!) \n",
      "\n",
      "Note that max is __156__!! That's a lot of prescriptions :("
     ]
    },
    {
     "cell_type": "code",
     "collapsed": false,
     "input": [
      "pat_results.prescription_count.describe()"
     ],
     "language": "python",
     "metadata": {},
     "outputs": [
      {
       "metadata": {},
       "output_type": "pyout",
       "prompt_number": 28,
       "text": [
        "count    9116.000000\n",
        "mean        9.342365\n",
        "std        13.061517\n",
        "min         1.000000\n",
        "25%         2.000000\n",
        "50%         5.000000\n",
        "75%        11.000000\n",
        "max       156.000000\n",
        "dtype: float64"
       ]
      }
     ],
     "prompt_number": 28
    },
    {
     "cell_type": "markdown",
     "metadata": {},
     "source": [
      "Does that mean I should modify the NaN's to become 0? I don't think that should be the case. There are a lot of reasons for a prescription record to _not_ be included in this data. We could simply don't have that record in the system, or maybe it's not logged, maybe the data that Practice Fusion gave me isn't complete, etc. But let's look at one example. I decided to take one of the patients that has a prescription count of NaN, and looked at the diagnosis:"
     ]
    },
    {
     "cell_type": "code",
     "collapsed": false,
     "input": [
      "diag[diag.PatientGuid=='E05C6E8F-779F-4594-A388-000C635AE4D3']"
     ],
     "language": "python",
     "metadata": {},
     "outputs": [
      {
       "html": [
        "<div style=\"max-height:1000px;max-width:1500px;overflow:auto;\">\n",
        "<table border=\"1\" class=\"dataframe\">\n",
        "  <thead>\n",
        "    <tr style=\"text-align: right;\">\n",
        "      <th></th>\n",
        "      <th>DiagnosisGuid</th>\n",
        "      <th>PatientGuid</th>\n",
        "      <th>ICD9Code</th>\n",
        "      <th>DiagnosisDescription</th>\n",
        "      <th>StartYear</th>\n",
        "      <th>StopYear</th>\n",
        "      <th>Acute</th>\n",
        "      <th>UserGuid</th>\n",
        "    </tr>\n",
        "  </thead>\n",
        "  <tbody>\n",
        "    <tr>\n",
        "      <th>52761</th>\n",
        "      <td> 3CCED89C-A8F7-458F-815E-89B6B0045AE8</td>\n",
        "      <td> E05C6E8F-779F-4594-A388-000C635AE4D3</td>\n",
        "      <td>    401</td>\n",
        "      <td> Essential hypertension                        ...</td>\n",
        "      <td>NaN</td>\n",
        "      <td>NaN</td>\n",
        "      <td> 0</td>\n",
        "      <td> 9A10C5E6-1DB4-417D-A649-13B882A2121D</td>\n",
        "    </tr>\n",
        "    <tr>\n",
        "      <th>91394</th>\n",
        "      <td> AF0900B3-F57F-441F-B34C-EECD10F93205</td>\n",
        "      <td> E05C6E8F-779F-4594-A388-000C635AE4D3</td>\n",
        "      <td> 278.00</td>\n",
        "      <td>                              Obesity, unspecified</td>\n",
        "      <td>NaN</td>\n",
        "      <td>NaN</td>\n",
        "      <td> 0</td>\n",
        "      <td> 9A10C5E6-1DB4-417D-A649-13B882A2121D</td>\n",
        "    </tr>\n",
        "    <tr>\n",
        "      <th>95965</th>\n",
        "      <td> D96EE03E-D831-40BB-B7F3-FA4A88290BA7</td>\n",
        "      <td> E05C6E8F-779F-4594-A388-000C635AE4D3</td>\n",
        "      <td>  V42.0</td>\n",
        "      <td>                     Kidney replaced by transplant</td>\n",
        "      <td>NaN</td>\n",
        "      <td>NaN</td>\n",
        "      <td> 0</td>\n",
        "      <td> 9A10C5E6-1DB4-417D-A649-13B882A2121D</td>\n",
        "    </tr>\n",
        "  </tbody>\n",
        "</table>\n",
        "</div>"
       ],
       "metadata": {},
       "output_type": "pyout",
       "prompt_number": 29,
       "text": [
        "                              DiagnosisGuid  \\\n",
        "52761  3CCED89C-A8F7-458F-815E-89B6B0045AE8   \n",
        "91394  AF0900B3-F57F-441F-B34C-EECD10F93205   \n",
        "95965  D96EE03E-D831-40BB-B7F3-FA4A88290BA7   \n",
        "\n",
        "                                PatientGuid ICD9Code  \\\n",
        "52761  E05C6E8F-779F-4594-A388-000C635AE4D3      401   \n",
        "91394  E05C6E8F-779F-4594-A388-000C635AE4D3   278.00   \n",
        "95965  E05C6E8F-779F-4594-A388-000C635AE4D3    V42.0   \n",
        "\n",
        "                                    DiagnosisDescription  StartYear  StopYear  \\\n",
        "52761  Essential hypertension                        ...        NaN       NaN   \n",
        "91394                               Obesity, unspecified        NaN       NaN   \n",
        "95965                      Kidney replaced by transplant        NaN       NaN   \n",
        "\n",
        "       Acute                              UserGuid  \n",
        "52761      0  9A10C5E6-1DB4-417D-A649-13B882A2121D  \n",
        "91394      0  9A10C5E6-1DB4-417D-A649-13B882A2121D  \n",
        "95965      0  9A10C5E6-1DB4-417D-A649-13B882A2121D  "
       ]
      }
     ],
     "prompt_number": 29
    },
    {
     "cell_type": "markdown",
     "metadata": {},
     "source": [
      "Woah! Kidney transplant! Hypertension! It looks like these are pretty critical conditions and there's no way a doctor wouldn't give this patient at least some meds after the transplant. I came to the belief that the data is not complete (missing record, or whatever) and we should simple discard these patient samples if we want to get a good prediction model. \n",
      "\n",
      "This also made me a bit skeptical of how valid this metric (number of prescription for each patient) is. If not all the prescriptions are logged in the system, can we trust these numbers to be indicator of how risky or how much medical resources a patient needs? After some thoughts, I think the answer is still yes, because we are always going to suffer from *some* data loss, but if we have enough good data, this should still be a good prediction model. "
     ]
    },
    {
     "cell_type": "code",
     "collapsed": false,
     "input": [
      "# drop NAs in the prescription_count column\n",
      "pat_results = pat_results.dropna()\n",
      "pat_results.head()"
     ],
     "language": "python",
     "metadata": {},
     "outputs": [
      {
       "html": [
        "<div style=\"max-height:1000px;max-width:1500px;overflow:auto;\">\n",
        "<table border=\"1\" class=\"dataframe\">\n",
        "  <thead>\n",
        "    <tr style=\"text-align: right;\">\n",
        "      <th></th>\n",
        "      <th>PatientGuid</th>\n",
        "      <th>Gender</th>\n",
        "      <th>YearOfBirth</th>\n",
        "      <th>State</th>\n",
        "      <th>PracticeGuid</th>\n",
        "      <th>prescription_count</th>\n",
        "    </tr>\n",
        "  </thead>\n",
        "  <tbody>\n",
        "    <tr>\n",
        "      <th>0</th>\n",
        "      <td> FB6EFC3D-1A20-4497-9CBD-00027CC5D220</td>\n",
        "      <td> M</td>\n",
        "      <td> 1929</td>\n",
        "      <td> SD</td>\n",
        "      <td> 7BF4DAD8-5F67-4985-B911-20C9E89A3737</td>\n",
        "      <td>  5</td>\n",
        "    </tr>\n",
        "    <tr>\n",
        "      <th>1</th>\n",
        "      <td> C6746626-6783-4650-A58F-00065649139A</td>\n",
        "      <td> F</td>\n",
        "      <td> 1985</td>\n",
        "      <td> TX</td>\n",
        "      <td> E7101967-2FF1-4B0F-8129-B0B429D1D15C</td>\n",
        "      <td>  2</td>\n",
        "    </tr>\n",
        "    <tr>\n",
        "      <th>3</th>\n",
        "      <td> EAEBD216-F847-4355-87B2-000D942E08F0</td>\n",
        "      <td> M</td>\n",
        "      <td> 1959</td>\n",
        "      <td> OH</td>\n",
        "      <td> EEBC95EF-79BE-4542-892E-98D3166BAB20</td>\n",
        "      <td> 38</td>\n",
        "    </tr>\n",
        "    <tr>\n",
        "      <th>4</th>\n",
        "      <td> C7F10A80-4934-42D2-8540-000FBEBA75C8</td>\n",
        "      <td> F</td>\n",
        "      <td> 1990</td>\n",
        "      <td> FL</td>\n",
        "      <td> 677BA32E-B4C4-48F2-86E4-08C42B135401</td>\n",
        "      <td>  1</td>\n",
        "    </tr>\n",
        "    <tr>\n",
        "      <th>5</th>\n",
        "      <td> 3BDB6A99-A404-4E9C-BE4B-002054F8B0F4</td>\n",
        "      <td> F</td>\n",
        "      <td> 1947</td>\n",
        "      <td> FL</td>\n",
        "      <td> 677BA32E-B4C4-48F2-86E4-08C42B135401</td>\n",
        "      <td>  2</td>\n",
        "    </tr>\n",
        "  </tbody>\n",
        "</table>\n",
        "</div>"
       ],
       "metadata": {},
       "output_type": "pyout",
       "prompt_number": 30,
       "text": [
        "                            PatientGuid Gender  YearOfBirth State  \\\n",
        "0  FB6EFC3D-1A20-4497-9CBD-00027CC5D220      M         1929    SD   \n",
        "1  C6746626-6783-4650-A58F-00065649139A      F         1985    TX   \n",
        "3  EAEBD216-F847-4355-87B2-000D942E08F0      M         1959    OH   \n",
        "4  C7F10A80-4934-42D2-8540-000FBEBA75C8      F         1990    FL   \n",
        "5  3BDB6A99-A404-4E9C-BE4B-002054F8B0F4      F         1947    FL   \n",
        "\n",
        "                           PracticeGuid  prescription_count  \n",
        "0  7BF4DAD8-5F67-4985-B911-20C9E89A3737                   5  \n",
        "1  E7101967-2FF1-4B0F-8129-B0B429D1D15C                   2  \n",
        "3  EEBC95EF-79BE-4542-892E-98D3166BAB20                  38  \n",
        "4  677BA32E-B4C4-48F2-86E4-08C42B135401                   1  \n",
        "5  677BA32E-B4C4-48F2-86E4-08C42B135401                   2  "
       ]
      }
     ],
     "prompt_number": 30
    },
    {
     "cell_type": "markdown",
     "metadata": {},
     "source": [
      "Also just a quick histogram to visualize the distribution of this prediction count:"
     ]
    },
    {
     "cell_type": "code",
     "collapsed": false,
     "input": [
      "import matplotlib.pyplot as plt\n",
      "plt.figure()\n",
      "pat_results.prescription_count.hist(bins=50)"
     ],
     "language": "python",
     "metadata": {},
     "outputs": [
      {
       "metadata": {},
       "output_type": "pyout",
       "prompt_number": 31,
       "text": [
        "<matplotlib.axes.AxesSubplot at 0x10dd86fd0>"
       ]
      },
      {
       "metadata": {},
       "output_type": "display_data",
       "png": "[encoded data removed]",
       "text": [
        "<matplotlib.figure.Figure at 0x108200910>"
       ]
      }
     ],
     "prompt_number": 31
    },
    {
     "cell_type": "markdown",
     "metadata": {},
     "source": [
      "---\n",
      "### Data cleaning\n",
      "\n",
      "The data exclusion steps I used are the following:\n",
      "- Removing all the prescription information (training_SyncPrescription.csv) since these are the answers\n",
      "- Removing all the medication information (training_SyncMedication.csv) since they are too much of an indicator directly related to the number of prescriptions\n",
      "- Removing all the medication-transcript information (training_SyncTranscriptMedication.csv) since they are easily connected\n",
      "\n",
      "This is simply removing entire files from the data so doesn't require further data massaging via code. \n",
      "\n",
      "---\n",
      "### Splitting of training/test data\n",
      "\n",
      "Since I have 9116 sets of data, I decided that it is a good idea to just split it in half into training set and test set. I know Kaggle usually uses 30% of test data for public board, and 70% for private board, and that should be included in the detail implementation inside the test set. \n",
      "\n",
      "I also had slight concerns about the robustness of my split. In other words, is my split of the train/test set respresentative enough so participants can come up with a reasonaly robust algorithm? In classification data splitting, one can use StratifiedShuffleSplit http://scikit-learn.org/stable/modules/generated/sklearn.cross_validation.StratifiedShuffleSplit.html#sklearn.cross_validation.StratifiedShuffleSplit\n",
      "But in regression it's slightly harder to do. So I made sure that I ran a few iterations of random splits between test/set and that they have similar distribution of the response variable (prediction_count). \n",
      "\n",
      "Also, I ran these iterations of splits and did a dummy prediction (all 0's) and made sure that the errors (described in the next section) are similar in each run. So we are not doing anything crazy. \n"
     ]
    },
    {
     "cell_type": "code",
     "collapsed": false,
     "input": [
      "# split the data set into two\n",
      "from sklearn.cross_validation import train_test_split\n",
      "train, test = train_test_split(pat_results, test_size=0.5, random_state=5)\n",
      "traindf = pd.DataFrame(train, columns = pat_results.columns)\n",
      "testdf = pd.DataFrame(test, columns = pat_results.columns)\n",
      "\n",
      "\n",
      "fig, axs = plt.subplots(1,2)\n",
      "traindf.prescription_count.hist(ax=axs[0])\n",
      "testdf.prescription_count.hist(ax=axs[1])"
     ],
     "language": "python",
     "metadata": {},
     "outputs": [
      {
       "metadata": {},
       "output_type": "pyout",
       "prompt_number": 32,
       "text": [
        "<matplotlib.axes.AxesSubplot at 0x108707290>"
       ]
      },
      {
       "metadata": {},
       "output_type": "display_data",
       "png": "[encoded data removed]",
       "text": [
        "<matplotlib.figure.Figure at 0x10a7d91d0>"
       ]
      }
     ],
     "prompt_number": 32
    },
    {
     "cell_type": "code",
     "collapsed": false,
     "input": [
      "# save training set, test set, and solution to csv\n",
      "traindf.to_csv('/Users/kanc/Documents/classes/Kaggle/practice_fusion/data/train.csv')\n",
      "testdf[testdf.columns - ['prescription_count']].to_csv('/Users/kanc/Documents/classes/Kaggle/practice_fusion/data/test.csv')\n",
      "test_dumb = np.zeros(len(test_true))\n",
      "testdf['dumbprediction'] = test_dumb\n",
      "testdf[['PatientGuid','dumbprediction']].to_csv('/Users/kanc/Documents/classes/Kaggle/practice_fusion/data/solution.csv')"
     ],
     "language": "python",
     "metadata": {},
     "outputs": [],
     "prompt_number": 33
    },
    {
     "cell_type": "markdown",
     "metadata": {},
     "source": [
      "---\n",
      "### Evaluation Metric\n",
      "\n",
      "Since this is a regression problem (predicting a number with range from 1 to around 150), something that's in the family of mean squared error would be the obvious choice. I considered the MSE (Mean Squared Error) and RMSLE (Root Mean Squared Logarithmic Error). Taking a log() on the error definitely changes the scale of the error and can make the numbers become more or less distinguishable between trials. \n",
      "\n",
      "Since I am running out of time, I chose MSE which is more convenient for me to use from sklearn. "
     ]
    },
    {
     "cell_type": "code",
     "collapsed": false,
     "input": [
      "from sklearn.metrics import mean_squared_error\n",
      "test_true = pd.np.array(testdf.prescription_count,dtype=float)\n",
      "mean_squared_error(test_true, test_dumb)\n"
     ],
     "language": "python",
     "metadata": {},
     "outputs": [
      {
       "metadata": {},
       "output_type": "pyout",
       "prompt_number": 34,
       "text": [
        "275.96423870118474"
       ]
      }
     ],
     "prompt_number": 34
    },
    {
     "cell_type": "markdown",
     "metadata": {},
     "source": [
      "### Benchmark\n",
      "At this point I am running short on time. I decided to build a very very simple feature table, taking the first record from the transcripts table with all the vital signs, and use this as a simple feature set to benchmark the competition. \n",
      "\n",
      "I chose everything out of the box. I used scikit-learn with a random forest regressor. I also tested it with a gradient boosting regressor just to compare. \n",
      "\n",
      "The results show some improvement from my dummy prediction (which really is dumb, because I used zero which causes a large error). I changed the param for number of estimators to see if I can get better results, and it did. \n",
      "\n",
      "|   | Dummy Prediction | RF n=100 |  RF n=200 | GBR |\n",
      "| ------------- | ------------- | ------------- | ------------- | ------------- |\n",
      "| MSE  |  275.96 | 195.01 | 193.82 | 204.34 |\n",
      "\n",
      "I really think it would be a great improvement if I use some other features related to diagnosis, since people with more diagnoses may have more prescriptions. But I have to respect the time constraint and not do that for now. \n"
     ]
    },
    {
     "cell_type": "code",
     "collapsed": false,
     "input": [
      "# extract some vitals features from transcripts\n",
      "trans = pd.read_csv(\"/Users/kanc/Documents/classes/Kaggle/practice_fusion/data/trainingSet/training_SyncTranscript.csv\")\n",
      "\n",
      "# only take the first transcript for each patient\n",
      "simplefeatures = trans.groupby('PatientGuid').first()\n",
      "simplefeatures = simplefeatures[[u'Height', u'Weight', u'BMI', u'SystolicBP', u'DiastolicBP']]\n",
      "# fill the NAs\n",
      "simplefeatures = simplefeatures.fillna(simplefeatures.mean())"
     ],
     "language": "python",
     "metadata": {},
     "outputs": [],
     "prompt_number": 35
    },
    {
     "cell_type": "code",
     "collapsed": false,
     "input": [
      "# read the training and testing sets \n",
      "traindf = pd.read_csv('/Users/kanc/Documents/classes/Kaggle/practice_fusion/data/train.csv',skipinitialspace=1,index_col=0)\n",
      "testdf = pd.read_csv('/Users/kanc/Documents/classes/Kaggle/practice_fusion/data/test.csv',skipinitialspace=1,index_col=0)\n",
      "# join simple feature set with patient info\n",
      "traindf = traindf.join(simplefeatures,on='PatientGuid')\n",
      "testdf = testdf.join(simplefeatures,on='PatientGuid')\n",
      "# modify gender so RF regressor won't complain\n",
      "traindf['Gender'] = traindf['Gender'].map( {'F': 0, 'M': 1} ).astype(int)\n",
      "testdf['Gender'] = testdf['Gender'].map( {'F': 0, 'M': 1} ).astype(int)"
     ],
     "language": "python",
     "metadata": {},
     "outputs": [],
     "prompt_number": 36
    },
    {
     "cell_type": "code",
     "collapsed": false,
     "input": [
      "# Train a RFR and predict!\n",
      "from sklearn.ensemble import RandomForestRegressor\n",
      "clf = RandomForestRegressor(n_estimators=200)\n",
      "selected_cols = traindf.columns - ['prescription_count','State','PracticeGuid','PatientGuid']\n",
      "clf.fit(traindf[selected_cols], traindf['prescription_count'])\n",
      "testdf['prediction'] = clf.predict(testdf[selected_cols])\n",
      "mean_squared_error(test_true, pd.np.array(testdf.prediction,dtype=float))"
     ],
     "language": "python",
     "metadata": {},
     "outputs": [
      {
       "metadata": {},
       "output_type": "pyout",
       "prompt_number": 37,
       "text": [
        "193.82354026436991"
       ]
      }
     ],
     "prompt_number": 37
    },
    {
     "cell_type": "code",
     "collapsed": false,
     "input": [
      "# Just to compare, I used a GBR too\n",
      "from sklearn.ensemble import GradientBoostingRegressor\n",
      "params = {'n_estimators': 100, 'max_depth': 10, 'min_samples_split': 1,'learning_rate': 0.05, 'loss': 'ls'}\n",
      "clf = GradientBoostingRegressor(**params)\n",
      "selected_cols = traindf.columns - ['prescription_count','State','PracticeGuid','PatientGuid']\n",
      "clf.fit(traindf[selected_cols], traindf['prescription_count'])\n",
      "testdf['prediction'] = clf.predict(testdf[selected_cols])\n",
      "mean_squared_error(test_true, pd.np.array(testdf.prediction,dtype=float))"
     ],
     "language": "python",
     "metadata": {},
     "outputs": [
      {
       "metadata": {},
       "output_type": "pyout",
       "prompt_number": 38,
       "text": [
        "204.33936665155565"
       ]
      }
     ],
     "prompt_number": 38
    },
    {
     "cell_type": "markdown",
     "metadata": {},
     "source": [
      "### Conclusion\n",
      "\n",
      "I've enjoyed participating the competitions, but this is the first time I'm on the other side of the competition! \n",
      "It's a fun, and slightly stressful because of the time constraint, experience. \n",
      "\n",
      "Lessons learned:\n",
      "- Most of the questions you asked are interesting, but whether they are possibly achievable is another story\n",
      "- First look at the data, and then brainstorm. A lot of the ideas I had were not even possible because there are like 5 data points. \n",
      "- It would be interesting to discuss with the actual data provider (Practice Fusion, in this example), so I can get more insights on what's interesting for them. "
     ]
    }
   ],
   "metadata": {}
  }
 ]
}